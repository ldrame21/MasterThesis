{
 "cells": [
  {
   "cell_type": "code",
   "execution_count": 1,
   "metadata": {},
   "outputs": [
    {
     "name": "stdout",
     "output_type": "stream",
     "text": [
      "Tag: LaatstVerwerkteMutatieVolgnummer, Attributes: {}, Text: 16587138\n",
      "Tag: Pand_opnamedatum, Attributes: {}, Text: 20240330\n",
      "Tag: Pand_opnametype, Attributes: {}, Text: Detailopname\n",
      "Tag: Pand_status, Attributes: {}, Text: Vergunningsaanvraag\n",
      "Tag: Pand_berekeningstype, Attributes: {}, Text: NTA 8800:2023 (detailopname woningbouw)\n",
      "Tag: Pand_energieklasse, Attributes: {}, Text: A+++\n",
      "Tag: Pand_is_op_basis_van_referentie_gebouw, Attributes: {}, Text: 0\n",
      "Tag: Pand_gebouwklasse, Attributes: {}, Text: W\n",
      "Tag: Meting_geldig_tot, Attributes: {}, Text: 20340330\n",
      "Tag: Pand_registratiedatum, Attributes: {}, Text: 20240330\n",
      "Tag: Pand_gebouwtype, Attributes: {}, Text: Vrijstaande woning\n",
      "Tag: Pand_projectnaam, Attributes: {}, Text: Vrijstaande woning Brinks Enterstraat Rijssen\n",
      "Tag: Pand_projectobject, Attributes: {}, Text: woning Brinks Enterstraat  Rijssen\n",
      "Tag: Pand_gebruiksoppervlakte_thermische_zone, Attributes: {}, Text: 210.93\n",
      "Tag: Pand_energiebehoefte, Attributes: {}, Text: 71.38\n",
      "Tag: Pand_eis_energiebehoefte, Attributes: {}, Text: 86.94\n",
      "Tag: Pand_primaire_fossiele_energie, Attributes: {}, Text: 1.35\n",
      "Tag: Pand_eis_primaire_fossiele_energie, Attributes: {}, Text: 30.00\n",
      "Tag: Pand_aandeel_hernieuwbare_energie, Attributes: {}, Text: 98.3\n",
      "Tag: Pand_eis_aandeel_hernieuwbare_energie, Attributes: {}, Text: 50.0\n",
      "Tag: Pand_temperatuuroverschrijding, Attributes: {}, Text: 0.00\n",
      "Tag: Pand_eis_temperatuuroverschrijding, Attributes: {}, Text: 1.20\n"
     ]
    }
   ],
   "source": [
    "import xml.etree.ElementTree as ET\n",
    "\n",
    "def parse_first_1000_lines(file_path):\n",
    "    # Counter for the number of lines processed\n",
    "    line_count = 0\n",
    "\n",
    "    # Open the XML file in binary mode to ensure compatibility with iterparse\n",
    "    with open(file_path, 'rb') as xml_file:\n",
    "        # Create an iterparse object for the XML file\n",
    "        context = ET.iterparse(xml_file, events=(\"start\", \"end\"))\n",
    "        \n",
    "        # Turn it into an iterator\n",
    "        context = iter(context)\n",
    "\n",
    "        # Get the root element\n",
    "        event, root = next(context)\n",
    "\n",
    "        for event, elem in context:\n",
    "            if event == \"start\":\n",
    "                line_count += 1\n",
    "            \n",
    "            if line_count >= 25:\n",
    "                # Stop after processing 1000 lines\n",
    "                break\n",
    "            \n",
    "            if event == \"end\":\n",
    "                # Process the element (elem) here as needed\n",
    "                # For example, you could print the element's tag and attributes\n",
    "                print(f\"Tag: {elem.tag}, Attributes: {elem.attrib}, Text: {elem.text.strip() if elem.text else 'None'}\")\n",
    "                # It's important to clear the elements to free memory\n",
    "                elem.clear()\n",
    "\n",
    "                # Also, clear the root to prevent build-up of processed elements\n",
    "                root.clear()\n",
    "\n",
    "# Replace 'your_large_file.xml' with the path to your XML file\n",
    "parse_first_1000_lines('v20240401_v2_xml.xml')"
   ]
  },
  {
   "cell_type": "code",
   "execution_count": 3,
   "metadata": {},
   "outputs": [
    {
     "name": "stdout",
     "output_type": "stream",
     "text": [
      "Successfully copied the first 100 lines in binary mode.\n"
     ]
    }
   ],
   "source": [
    "def copy_first_100_lines_binary_mode(source_file_path, destination_file_path):\n",
    "    try:\n",
    "        with open(source_file_path, 'rb') as source_file:  # Open in binary read mode\n",
    "            with open(destination_file_path, 'wb') as destination_file:  # Open in binary write mode\n",
    "                line_count = 0\n",
    "                while line_count < 10:\n",
    "                    line = source_file.readline()\n",
    "                    # Break the loop if we reach the end of the file\n",
    "                    if not line:\n",
    "                        break\n",
    "                    destination_file.write(line)\n",
    "                    line_count += 1\n",
    "        print(\"Successfully copied the first 100 lines in binary mode.\")\n",
    "    except Exception as e:\n",
    "        print(f\"An error occurred: {e}\")\n",
    "\n",
    "# Specify the path to your source XML file\n",
    "source_file_path = 'v20240401_v2_xml.xml'  # Replace 'source.xml' with your actual source file path\n",
    "# Specify the path where you want to save the first 100 lines\n",
    "destination_file_path = 'first_100_lines.xml'  # Replace 'first_100_lines.xml' with your desired destination file path\n",
    "\n",
    "# Call the function with the paths\n",
    "copy_first_100_lines_binary_mode(source_file_path, destination_file_path)\n"
   ]
  },
  {
   "cell_type": "code",
   "execution_count": 5,
   "metadata": {},
   "outputs": [
    {
     "name": "stdout",
     "output_type": "stream",
     "text": [
      "Successfully copied the first part of the file in chunks.\n"
     ]
    }
   ],
   "source": [
    "def copy_first_chunk_of_xml(source_file_path, destination_file_path, chunk_size=1024, max_chunks=100):\n",
    "    try:\n",
    "        with open(source_file_path, 'rb') as source_file:\n",
    "            with open(destination_file_path, 'wb') as destination_file:\n",
    "                chunk_count = 0\n",
    "                while chunk_count < max_chunks:\n",
    "                    chunk = source_file.read(chunk_size)\n",
    "                    if not chunk:\n",
    "                        break\n",
    "                    destination_file.write(chunk)\n",
    "                    chunk_count += 1\n",
    "        print(\"Successfully copied the first part of the file in chunks.\")\n",
    "    except Exception as e:\n",
    "        print(f\"An error occurred: {e}\")\n",
    "\n",
    "# Specify the path to your source XML file\n",
    "source_file_path = 'v20240401_v2_xml.xml'  # Replace 'source.xml' with your actual source file path\n",
    "# Specify the path where you want to save the first part of the file\n",
    "destination_file_path = 'first_part_of_xml.xml'  # Adjust the file name as needed\n",
    "\n",
    "# Call the function with the paths\n",
    "copy_first_chunk_of_xml(source_file_path, destination_file_path)\n"
   ]
  },
  {
   "cell_type": "code",
   "execution_count": null,
   "metadata": {},
   "outputs": [],
   "source": []
  }
 ],
 "metadata": {
  "kernelspec": {
   "display_name": "Python 3.8.11 ('ada')",
   "language": "python",
   "name": "python3"
  },
  "language_info": {
   "codemirror_mode": {
    "name": "ipython",
    "version": 3
   },
   "file_extension": ".py",
   "mimetype": "text/x-python",
   "name": "python",
   "nbconvert_exporter": "python",
   "pygments_lexer": "ipython3",
   "version": "3.8.11"
  },
  "orig_nbformat": 4,
  "vscode": {
   "interpreter": {
    "hash": "2ddbd0b842a978e03471eb3a4ae18fdd24eb8ad76bdab23b363108c4c8f6a59c"
   }
  }
 },
 "nbformat": 4,
 "nbformat_minor": 2
}
