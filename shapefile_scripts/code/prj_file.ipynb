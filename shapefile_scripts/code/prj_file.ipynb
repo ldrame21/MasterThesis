{
 "cells": [
  {
   "cell_type": "code",
   "execution_count": 1,
   "metadata": {},
   "outputs": [],
   "source": [
    "def read_prj_file(prj_file_path):\n",
    "    with open(prj_file_path, 'r') as prj_file:\n",
    "        prj_contents = prj_file.read()\n",
    "    return prj_contents\n"
   ]
  },
  {
   "cell_type": "code",
   "execution_count": 2,
   "metadata": {},
   "outputs": [
    {
     "name": "stdout",
     "output_type": "stream",
     "text": [
      "PROJCS[\"unknown\",GEOGCS[\"GCS_unknown\",DATUM[\"D_WGS_1984\",SPHEROID[\"WGS_1984\",6378137.0,298.257223563]],PRIMEM[\"Greenwich\",0.0],UNIT[\"Degree\",0.0174532925199433]],PROJECTION[\"Transverse_Mercator\"],PARAMETER[\"False_Easting\",500000.0],PARAMETER[\"False_Northing\",0.0],PARAMETER[\"Central_Meridian\",3.0],PARAMETER[\"Scale_Factor\",0.9996],PARAMETER[\"Latitude_Of_Origin\",0.0],UNIT[\"Meter\",1.0]]\n"
     ]
    }
   ],
   "source": [
    "# Example usage:\n",
    "prj_file_path = 'building-geometry/zone.prj'\n",
    "prj_contents = read_prj_file(prj_file_path)\n",
    "print(prj_contents)"
   ]
  },
  {
   "cell_type": "code",
   "execution_count": 3,
   "metadata": {},
   "outputs": [
    {
     "data": {
      "text/plain": [
       "1"
      ]
     },
     "execution_count": 3,
     "metadata": {},
     "output_type": "execute_result"
    }
   ],
   "source": [
    "len(prj_contents[384])"
   ]
  },
  {
   "cell_type": "code",
   "execution_count": 4,
   "metadata": {},
   "outputs": [],
   "source": [
    "def read_cpg_file(cpg_file_path):\n",
    "    with open(cpg_file_path, 'r') as cpg_file:\n",
    "        cpg_contents = cpg_file.read().strip()  # Remove leading/trailing whitespace\n",
    "    return cpg_contents\n"
   ]
  },
  {
   "cell_type": "code",
   "execution_count": 5,
   "metadata": {},
   "outputs": [
    {
     "name": "stdout",
     "output_type": "stream",
     "text": [
      "ISO-8859-1\n"
     ]
    }
   ],
   "source": [
    "\n",
    "# Example usage:\n",
    "cpg_file_path = 'building-geometry/zone.cpg'\n",
    "cpg_contents = read_cpg_file(cpg_file_path)\n",
    "print(cpg_contents)"
   ]
  },
  {
   "cell_type": "code",
   "execution_count": 7,
   "metadata": {},
   "outputs": [
    {
     "name": "stdout",
     "output_type": "stream",
     "text": [
      "Intel MKL WARNING: Support of Intel(R) Streaming SIMD Extensions 4.2 (Intel(R) SSE4.2) enabled only processors has been deprecated. Intel oneAPI Math Kernel Library 2025.0 will require Intel(R) Advanced Vector Extensions (Intel(R) AVX) instructions.\n",
      "Intel MKL WARNING: Support of Intel(R) Streaming SIMD Extensions 4.2 (Intel(R) SSE4.2) enabled only processors has been deprecated. Intel oneAPI Math Kernel Library 2025.0 will require Intel(R) Advanced Vector Extensions (Intel(R) AVX) instructions.\n",
      "     Name  height_ag  floors_ag  height_bg  floors_bg descriptio  \\\n",
      "0   B1000       21.0          7        3.0          1       None   \n",
      "1   B1001        9.0          3        3.0          1       None   \n",
      "2   B1002        9.0          3        3.0          1       None   \n",
      "3   B1003       36.0         12        3.0          1       None   \n",
      "4   B1004       21.0          7        3.0          1       None   \n",
      "..    ...        ...        ...        ...        ...        ...   \n",
      "66  B1066        3.0          1        3.0          1       None   \n",
      "67  B1067        3.0          1        3.0          1       None   \n",
      "68  B1068        3.0          1        3.0          1       None   \n",
      "69  B1069        3.0          1        3.0          1       None   \n",
      "70  B1070        3.0          1        3.0          1       None   \n",
      "\n",
      "        category       REFERENCE house_no street postcode house_name  \\\n",
      "0     apartments  OSM - as it is     None   None     None       None   \n",
      "1     apartments  OSM - as it is     None   None     None       None   \n",
      "2     commercial  OSM - as it is     None   None     None       None   \n",
      "3     apartments  OSM - as it is     None   None     None       None   \n",
      "4     apartments  OSM - as it is     None   None     None       None   \n",
      "..           ...             ...      ...    ...      ...        ...   \n",
      "66  construction  OSM - as it is     None   None     None       None   \n",
      "67  construction  OSM - as it is     None   None     None       None   \n",
      "68  construction  OSM - as it is     None   None     None       None   \n",
      "69        garage  OSM - as it is     None   None     None       None   \n",
      "70    commercial  OSM - as it is     None   None     None       None   \n",
      "\n",
      "   resi_type  city country                                           geometry  \n",
      "0       None  None    None  POLYGON ((625154.215 5802060.734, 625153.501 5...  \n",
      "1       None  None    None  POLYGON ((625287.261 5801982.298, 625297.137 5...  \n",
      "2       None  None    None  POLYGON ((625104.257 5802160.692, 625104.962 5...  \n",
      "3       None  None    None  POLYGON ((625251.459 5802044.710, 625256.592 5...  \n",
      "4       None  None    None  POLYGON ((625227.569 5802065.069, 625218.122 5...  \n",
      "..       ...   ...     ...                                                ...  \n",
      "66      None  None    None  POLYGON ((625198.890 5802212.185, 625202.211 5...  \n",
      "67      None  None    None  POLYGON ((625108.401 5802216.185, 625133.952 5...  \n",
      "68      None  None    None  POLYGON ((625154.031 5802218.189, 625191.718 5...  \n",
      "69      None  None    None  POLYGON ((625435.296 5802009.291, 625422.832 5...  \n",
      "70      None  None    None  POLYGON ((625386.430 5801861.003, 625384.699 5...  \n",
      "\n",
      "[71 rows x 16 columns]\n"
     ]
    }
   ],
   "source": [
    "import geopandas as gpd\n",
    "\n",
    "# Specify the path to your .shp file\n",
    "shp_file_path = 'building-geometry/zone.shp'\n",
    "\n",
    "# Read the shapefile\n",
    "gdf = gpd.read_file(shp_file_path)\n",
    "\n",
    "# Display the GeoDataFrame (contains the shapefile data)\n",
    "print(gdf)"
   ]
  },
  {
   "cell_type": "code",
   "execution_count": 17,
   "metadata": {},
   "outputs": [
    {
     "data": {
      "text/plain": [
       "0     POLYGON ((625154.215 5802060.734, 625153.501 5...\n",
       "1     POLYGON ((625287.261 5801982.298, 625297.137 5...\n",
       "2     POLYGON ((625104.257 5802160.692, 625104.962 5...\n",
       "3     POLYGON ((625251.459 5802044.710, 625256.592 5...\n",
       "4     POLYGON ((625227.569 5802065.069, 625218.122 5...\n",
       "                            ...                        \n",
       "66    POLYGON ((625198.890 5802212.185, 625202.211 5...\n",
       "67    POLYGON ((625108.401 5802216.185, 625133.952 5...\n",
       "68    POLYGON ((625154.031 5802218.189, 625191.718 5...\n",
       "69    POLYGON ((625435.296 5802009.291, 625422.832 5...\n",
       "70    POLYGON ((625386.430 5801861.003, 625384.699 5...\n",
       "Name: geometry, Length: 71, dtype: geometry"
      ]
     },
     "execution_count": 17,
     "metadata": {},
     "output_type": "execute_result"
    }
   ],
   "source": [
    "gdf.geometry"
   ]
  },
  {
   "cell_type": "code",
   "execution_count": null,
   "metadata": {},
   "outputs": [],
   "source": []
  }
 ],
 "metadata": {
  "kernelspec": {
   "display_name": "Python 3.9.18 ('llms')",
   "language": "python",
   "name": "python3"
  },
  "language_info": {
   "codemirror_mode": {
    "name": "ipython",
    "version": 3
   },
   "file_extension": ".py",
   "mimetype": "text/x-python",
   "name": "python",
   "nbconvert_exporter": "python",
   "pygments_lexer": "ipython3",
   "version": "3.9.18"
  },
  "orig_nbformat": 4,
  "vscode": {
   "interpreter": {
    "hash": "827a072d700d9148fe658b96fc5a162b5b7b249e7473a6333cce0eae20c52cb1"
   }
  }
 },
 "nbformat": 4,
 "nbformat_minor": 2
}
