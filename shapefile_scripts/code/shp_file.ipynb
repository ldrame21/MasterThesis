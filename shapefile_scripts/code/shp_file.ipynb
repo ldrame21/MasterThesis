{
 "cells": [
  {
   "cell_type": "code",
   "execution_count": 1,
   "metadata": {},
   "outputs": [
    {
     "name": "stdout",
     "output_type": "stream",
     "text": [
      "Intel MKL WARNING: Support of Intel(R) Streaming SIMD Extensions 4.2 (Intel(R) SSE4.2) enabled only processors has been deprecated. Intel oneAPI Math Kernel Library 2025.0 will require Intel(R) Advanced Vector Extensions (Intel(R) AVX) instructions.\n",
      "Intel MKL WARNING: Support of Intel(R) Streaming SIMD Extensions 4.2 (Intel(R) SSE4.2) enabled only processors has been deprecated. Intel oneAPI Math Kernel Library 2025.0 will require Intel(R) Advanced Vector Extensions (Intel(R) AVX) instructions.\n"
     ]
    }
   ],
   "source": [
    "import geopandas as gpd\n"
   ]
  },
  {
   "cell_type": "code",
   "execution_count": 33,
   "metadata": {},
   "outputs": [],
   "source": [
    "\n",
    "# Load the shapefile\n",
    "shapefile_path = '/Users/louis/Desktop/EPFL/Thesis/weeks/week4/data/koningin_test1.shp'\n",
    "#shapefile_path = '/Users/louis/Desktop/EPFL/Thesis/weeks/week4/data/building-geometry/zone.shp'\n",
    "gdf = gpd.read_file(shapefile_path)\n",
    "\n",
    "# Check existing columns\n",
    "existing_columns = gdf.columns.tolist()"
   ]
  },
  {
   "cell_type": "code",
   "execution_count": 35,
   "metadata": {},
   "outputs": [
    {
     "data": {
      "text/plain": [
       "['geometry']"
      ]
     },
     "execution_count": 35,
     "metadata": {},
     "output_type": "execute_result"
    }
   ],
   "source": [
    "required_columns = ['geometry']\n",
    "columns_to_drop = [col for col in gdf.columns if col not in required_columns]\n",
    "\n",
    "# Drop the selected columns\n",
    "gdf = gdf.drop(columns=columns_to_drop)\n",
    "gdf.columns.tolist()"
   ]
  },
  {
   "cell_type": "code",
   "execution_count": 36,
   "metadata": {},
   "outputs": [
    {
     "data": {
      "text/plain": [
       "'/Users/louis/Desktop/EPFL/Thesis/weeks/week4/data/koningin_test1_modified.shp'"
      ]
     },
     "execution_count": 36,
     "metadata": {},
     "output_type": "execute_result"
    }
   ],
   "source": [
    "# Required columns with dummy data\n",
    "required_columns = {\n",
    "    'Name': [f'Building_{i}' for i in range(len(gdf))],\n",
    "    'height_ag': [15.0] * len(gdf),  # Assuming 15 meters above ground as dummy data\n",
    "    'floors_ag': [5] * len(gdf),  # Assuming 5 floors above ground as dummy data\n",
    "    'height_bg': [3.0] * len(gdf),  # Assuming 3 meters below ground as dummy data\n",
    "    'floors_bg': [1] * len(gdf),  # Assuming 1 floor below ground as dummy data\n",
    "    'descriptio': ['None'] * len(gdf),  # Dummy data for description\n",
    "    'category': ['Residential'] * len(gdf),  # Dummy category\n",
    "    'REFERENCE': ['REF123'] * len(gdf),  # Dummy reference\n",
    "    'house_no': ['1'] * len(gdf),  # Dummy house number\n",
    "    'street': ['Main Street'] * len(gdf),  # Dummy street\n",
    "    'postcode': ['12345'] * len(gdf),  # Dummy postcode\n",
    "    'house_name': ['None'] * len(gdf),  # Dummy house name\n",
    "    'resi_type': ['Apartment'] * len(gdf),  # Dummy residential type\n",
    "    'city': ['CityName'] * len(gdf),  # Dummy city\n",
    "    'country': ['CountryName'] * len(gdf)  # Dummy country\n",
    "}\n",
    "\n",
    "# Add missing columns with dummy data\n",
    "for column, data in required_columns.items():\n",
    "    if column not in existing_columns:\n",
    "        gdf[column] = data\n",
    "\n",
    "# Save the modified shapefile\n",
    "modified_shapefile_path = '/Users/louis/Desktop/EPFL/Thesis/weeks/week4/data/koningin_test1_modified.shp'\n",
    "gdf.to_file(modified_shapefile_path)\n",
    "\n",
    "modified_shapefile_path"
   ]
  },
  {
   "cell_type": "code",
   "execution_count": 37,
   "metadata": {},
   "outputs": [
    {
     "data": {
      "text/plain": [
       "['geometry',\n",
       " 'Name',\n",
       " 'height_ag',\n",
       " 'floors_ag',\n",
       " 'height_bg',\n",
       " 'floors_bg',\n",
       " 'descriptio',\n",
       " 'category',\n",
       " 'REFERENCE',\n",
       " 'house_no',\n",
       " 'street',\n",
       " 'postcode',\n",
       " 'house_name',\n",
       " 'resi_type',\n",
       " 'city',\n",
       " 'country']"
      ]
     },
     "execution_count": 37,
     "metadata": {},
     "output_type": "execute_result"
    }
   ],
   "source": [
    "gdf.columns.tolist()"
   ]
  },
  {
   "cell_type": "code",
   "execution_count": null,
   "metadata": {},
   "outputs": [],
   "source": []
  }
 ],
 "metadata": {
  "kernelspec": {
   "display_name": "Python 3.9.18 ('llms')",
   "language": "python",
   "name": "python3"
  },
  "language_info": {
   "codemirror_mode": {
    "name": "ipython",
    "version": 3
   },
   "file_extension": ".py",
   "mimetype": "text/x-python",
   "name": "python",
   "nbconvert_exporter": "python",
   "pygments_lexer": "ipython3",
   "version": "3.9.18"
  },
  "orig_nbformat": 4,
  "vscode": {
   "interpreter": {
    "hash": "827a072d700d9148fe658b96fc5a162b5b7b249e7473a6333cce0eae20c52cb1"
   }
  }
 },
 "nbformat": 4,
 "nbformat_minor": 2
}
